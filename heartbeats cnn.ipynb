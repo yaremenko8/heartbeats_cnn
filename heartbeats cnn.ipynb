{
  "nbformat": 4,
  "nbformat_minor": 0,
  "metadata": {
    "colab": {
      "name": "heartbeats cnn.ipynb",
      "provenance": [],
      "toc_visible": true,
      "include_colab_link": true
    },
    "kernelspec": {
      "display_name": "Python 3",
      "language": "python",
      "name": "python3"
    },
    "language_info": {
      "codemirror_mode": {
        "name": "ipython",
        "version": 3
      },
      "file_extension": ".py",
      "mimetype": "text/x-python",
      "name": "python",
      "nbconvert_exporter": "python",
      "pygments_lexer": "ipython3",
      "version": "3.6.6"
    }
  },
  "cells": [
    {
      "cell_type": "markdown",
      "metadata": {
        "id": "view-in-github",
        "colab_type": "text"
      },
      "source": [
        "<a href=\"https://colab.research.google.com/github/yaremenko8/heartbeats_cnn/blob/main/heartbeats%20cnn.ipynb\" target=\"_parent\"><img src=\"https://colab.research.google.com/assets/colab-badge.svg\" alt=\"Open In Colab\"/></a>"
      ]
    },
    {
      "cell_type": "markdown",
      "metadata": {
        "id": "wlhyeyS8gvH9"
      },
      "source": [
        "## Imports, procedures and data preparation"
      ]
    },
    {
      "cell_type": "code",
      "metadata": {
        "id": "9zbIQxO3gvIR"
      },
      "source": [
        "import os\n",
        "os.environ['PYTHONHASHSEED'] = str(0)\n",
        "\n",
        "import random\n",
        "import numpy as np\n",
        "import pandas as pd\n",
        "import matplotlib.pyplot as plt\n",
        "\n",
        "from sklearn.model_selection import train_test_split\n",
        "from sklearn.metrics import accuracy_score\n",
        "\n",
        "import tensorflow as tf\n",
        "from tensorflow.keras import layers\n",
        "\n",
        "import xgboost as xgb\n",
        "from sklearn.neighbors import KNeighborsClassifier as KNN\n",
        "from sklearn.ensemble import RandomForestClassifier\n",
        "from sklearn.model_selection import cross_validate\n",
        "\n",
        "def reset_random_seeds():\n",
        "  os.environ['PYTHONHASHSEED'] = str(0)\n",
        "  np.random.seed(2)\n",
        "  tf.random.set_seed(2)\n",
        "  random.seed(2)"
      ],
      "execution_count": 1,
      "outputs": []
    },
    {
      "cell_type": "code",
      "metadata": {
        "id": "xHfwCM81gvIV"
      },
      "source": [
        "def show_train_history(train_history, train, validation):\n",
        "    plt.plot(train_history.history[train])\n",
        "    plt.plot(train_history.history[validation])\n",
        "    plt.title('Train History')\n",
        "    plt.ylabel('train')\n",
        "    plt.xlabel('Epoch')\n",
        "    plt.legend(['train', 'validation'], loc='upper left')\n",
        "    plt.show()\n",
        "\n",
        "from sklearn.metrics import balanced_accuracy_score, accuracy_score\n",
        "    \n",
        "def show_confusion_matrix(confusion_matrix):\n",
        "    print('\\n' + str(confusion_matrix))\n",
        "    FP = confusion_matrix.sum(axis=0) - np.diag(confusion_matrix)  \n",
        "    FN = confusion_matrix.sum(axis=1) - np.diag(confusion_matrix)\n",
        "    TP = np.diag(confusion_matrix)\n",
        "    TN = confusion_matrix.values.sum() - (FP + FN + TP)\n",
        "\n",
        "    # Sensitivity, hit rate, recall, or true positive rate\n",
        "    TPR = TP/(TP+FN)\n",
        "    # Specificity or true negative rate\n",
        "    TNR = TN/(TN+FP) \n",
        "    # Precision or positive predictive value\n",
        "    PPV = TP/(TP+FP)\n",
        "    # Overall accuracy\n",
        "    ACC = (TP+TN)/(TP+FP+FN+TN)\n",
        "\n",
        "    print('acc  = ' + str(round(ACC[0]*100.0,2)) + '% , ' + \\\n",
        "          str(round(ACC[1]*100.0,2)) + '% , ' + \\\n",
        "          str(round(ACC[2]*100.0,2)) + '% , ' + \\\n",
        "          str(round(ACC[3]*100.0,2)) + '% , ' + \\\n",
        "          str(round(ACC[4]*100.0,2)) + '% ')\n",
        "    print('ppv  = ' + str(round(PPV[0]*100.0,2)) + '% , ' + \\\n",
        "          str(round(PPV[1]*100.0,2)) + '% , ' + \\\n",
        "          str(round(PPV[2]*100.0,2)) + '% , ' + \\\n",
        "          str(round(PPV[3]*100.0,2)) + '% , ' + \\\n",
        "          str(round(PPV[4]*100.0,2)) + '% ')\n",
        "    print('sen  = ' + str(round(TPR[0]*100.0,2)) + '% , ' + \\\n",
        "          str(round(TPR[1]*100.0,2)) + '% , ' + \\\n",
        "          str(round(TPR[2]*100.0,2)) + '% , ' + \\\n",
        "          str(round(TPR[3]*100.0,2)) + '% , ' + \\\n",
        "          str(round(TPR[4]*100.0,2)) + '% ')\n",
        "    print('spec = ' + str(round(TNR[0]*100.0,2)) + '% , ' + \\\n",
        "          str(round(TNR[1]*100.0,2)) + '% , ' + \\\n",
        "          str(round(TNR[2]*100.0,2)) + '% , ' + \\\n",
        "          str(round(TNR[3]*100.0,2)) + '% , ' + \\\n",
        "          str(round(TNR[4]*100.0,2)) + '% ')"
      ],
      "execution_count": 3,
      "outputs": []
    },
    {
      "cell_type": "code",
      "metadata": {
        "id": "DISwpiz6gvIX"
      },
      "source": [
        "# MIT-BIH Arrhythmia Database\n",
        "# https://physionet.org/content/mitdb/1.0.0/\n",
        "mitdbs = [100,101,102,103,104,105,106,107,108,109,111,112,113,114,115,116,117,118,119,121,122,123,124,200,201,202,203,205,207,208,209,210,212,213,214,215,217,219,220,221,222,223,228,230,231,232,233,234]"
      ],
      "execution_count": 4,
      "outputs": []
    },
    {
      "cell_type": "code",
      "metadata": {
        "colab": {
          "base_uri": "https://localhost:8080/"
        },
        "id": "X8AxsEQ0gvIY",
        "outputId": "64adbeab-c111-4ab6-a6d4-daa383d41efe"
      },
      "source": [
        "reset_random_seeds()\n",
        "\n",
        "X_list = list() \n",
        "y_list = list()\n",
        "for db in mitdbs:\n",
        "    if os.path.isfile('./beats/'+ str(db) + '.npy') : \n",
        "        db_dict = np.load('./beats/'+ str(db) + '.npy', allow_pickle=True).item()\n",
        "        beats   = db_dict['beats']\n",
        "    \n",
        "        for beat in beats :\n",
        "            # X is ECG signal\n",
        "            X_list.append(beat[1][::3])\n",
        "            # y is categorie\n",
        "            y_list.append(beat[0])\n",
        "    else :\n",
        "        print('./beats/'+ str(db) + '.npy' + ' file does not exist')\n",
        "\n",
        "    \n",
        "X = np.array(X_list)\n",
        "y = np.array(y_list)\n",
        "X = (X - np.min(X)) / (np.max(X) - np.min(X))\n",
        "print(X.shape)"
      ],
      "execution_count": 5,
      "outputs": [
        {
          "output_type": "stream",
          "text": [
            "./beats/102.npy file does not exist\n",
            "./beats/104.npy file does not exist\n",
            "(103421, 87)\n"
          ],
          "name": "stdout"
        }
      ]
    },
    {
      "cell_type": "code",
      "metadata": {
        "colab": {
          "base_uri": "https://localhost:8080/"
        },
        "id": "eWtowHgOgvIe",
        "outputId": "22d0fac1-dca1-41b1-e859-7a8ad39b5195"
      },
      "source": [
        "print('Type N number of beats = ' + str(len(np.where(y==0)[0])))\n",
        "print('Type S number of beats = ' + str(len(np.where(y==1)[0])))\n",
        "print('Type V number of beats = ' + str(len(np.where(y==2)[0])))\n",
        "print('Type F number of beats = ' + str(len(np.where(y==3)[0])))\n",
        "print('Type Q number of beats = ' + str(len(np.where(y==4)[0])))\n",
        "print('Total  number of beats = ' + str(len(y)))"
      ],
      "execution_count": 6,
      "outputs": [
        {
          "output_type": "stream",
          "text": [
            "Type N number of beats = 90078\n",
            "Type S number of beats = 2704\n",
            "Type V number of beats = 6271\n",
            "Type F number of beats = 786\n",
            "Type Q number of beats = 3582\n",
            "Total  number of beats = 103421\n"
          ],
          "name": "stdout"
        }
      ]
    },
    {
      "cell_type": "code",
      "metadata": {
        "colab": {
          "base_uri": "https://localhost:8080/"
        },
        "id": "6CsBeGucgvIf",
        "outputId": "408509b5-ad32-4fe6-972b-0450623eadad"
      },
      "source": [
        "weight0 = 1.0 - (len(np.where(y==0)[0]) / len(y))\n",
        "weight1 = 1.0 - (len(np.where(y==1)[0]) / len(y))\n",
        "weight2 = 1.0 - (len(np.where(y==2)[0]) / len(y))\n",
        "weight3 = 1.0 - (len(np.where(y==3)[0]) / len(y))\n",
        "weight4 = 1.0 - (len(np.where(y==4)[0]) / len(y))\n",
        "class_weight = {0: weight0 , 1: weight1 , 2: weight2 ,3 : weight3 , 4 : weight4}\n",
        "weights = [weight0 , weight1 , weight2 , weight3 , weight4]\n",
        "print(class_weight)"
      ],
      "execution_count": 7,
      "outputs": [
        {
          "output_type": "stream",
          "text": [
            "{0: 0.12901635064445327, 1: 0.9738544396205799, 2: 0.9393643457324915, 3: 0.9923999961323136, 4: 0.9653648678701617}\n"
          ],
          "name": "stdout"
        }
      ]
    },
    {
      "cell_type": "markdown",
      "metadata": {
        "id": "3WFGFCfcgvIh"
      },
      "source": [
        "# Feature engineering approach"
      ]
    },
    {
      "cell_type": "markdown",
      "metadata": {
        "id": "g-ls_loVgvIi"
      },
      "source": [
        "### Attempt 0: Naive baseline\n",
        "The most obvious feature set is simply the downsampled signal. This rather simplistic approach may not achieve good results, though it can certainly be used as an informative benchmark to compare against."
      ]
    },
    {
      "cell_type": "code",
      "metadata": {
        "id": "7UKehRa5gvIj"
      },
      "source": [
        "# Feature computations\n",
        "X_ = X[:, ::6].copy()"
      ],
      "execution_count": 8,
      "outputs": []
    },
    {
      "cell_type": "markdown",
      "metadata": {
        "id": "oUhm_uIDgvIk"
      },
      "source": [
        "#### Results\n",
        "Despite its embarassing simplicity, this feature-set yields an average recall of 73.4%, which is not too bad."
      ]
    },
    {
      "cell_type": "code",
      "metadata": {
        "colab": {
          "base_uri": "https://localhost:8080/"
        },
        "id": "TSeNXkVQgvIl",
        "outputId": "9f59c14f-3760-448c-f9e8-d308c02adc0a"
      },
      "source": [
        "# CrossVal\n",
        "reset_random_seeds()\n",
        "model = RandomForestClassifier(n_estimators=100, max_depth=None, class_weight='balanced',\n",
        "                               random_state=0, n_jobs=6)\n",
        "results = cross_validate(model, X=X_, y=y, scoring=['accuracy', 'balanced_accuracy'], cv=5)\n",
        "print(\"Mean balanced accuracy: \", np.mean(results['test_balanced_accuracy']))\n",
        "print(\"Mean accuracy: \", np.mean(results['test_accuracy']))\n"
      ],
      "execution_count": 9,
      "outputs": [
        {
          "output_type": "stream",
          "text": [
            "Mean balanced accuracy:  0.7355814397960482\n",
            "Mean accuracy:  0.9183046196675113\n"
          ],
          "name": "stdout"
        }
      ]
    },
    {
      "cell_type": "markdown",
      "metadata": {
        "id": "m0OZPUV2gvIm"
      },
      "source": [
        "### Attempt 1: Extrema and their locations\n",
        "The first approach that we tried in our endevour for decent accuracy in the absence of deep learning is using the data about extrema to predict disorders. On the surface it does seem like a decent approach, since such important metrics as QT interval, heart rate, blood pressure and most important parameters that regard each of the PQRS intervals are all determined by minima, maxima and their locations."
      ]
    },
    {
      "cell_type": "code",
      "metadata": {
        "id": "wNfuVDpsgvIn"
      },
      "source": [
        "# Feature computations\n",
        "from scipy.signal import find_peaks\n",
        "\n",
        "def ordered_extrema(x, num_maxima=3, num_minima=3):\n",
        "    maxima = find_peaks(x)[0]\n",
        "    total_maxima = maxima.size\n",
        "    maxima = maxima[:num_maxima]\n",
        "    maxima = np.argsort(-x[maxima])\n",
        "    maxima_values = x[maxima]\n",
        "    missing_maxima = num_maxima - maxima.size\n",
        "    maxima = np.concatenate((maxima, -np.ones(missing_maxima)))\n",
        "    maxima_values = np.concatenate((maxima_values, -np.ones(missing_maxima)))\n",
        "    \n",
        "    minima = find_peaks(-x)[0]\n",
        "    total_minima = minima.size\n",
        "    minima = minima[:num_minima]\n",
        "    minima = np.argsort(x[minima])\n",
        "    minima_values = x[minima]\n",
        "    missing_minima = num_minima - minima.size\n",
        "    minima = np.concatenate((minima, -np.ones(missing_minima)))\n",
        "    minima_values = np.concatenate((minima_values, -np.ones(missing_minima)))\n",
        "    \n",
        "    return np.concatenate((maxima, \n",
        "                           maxima_values, \n",
        "                           minima, \n",
        "                           minima_values,\n",
        "                           [total_maxima + total_minima],\n",
        "                           x[::6]))\n",
        "\n",
        "\n",
        "X_ = np.apply_along_axis(ordered_extrema, 1, X)"
      ],
      "execution_count": 10,
      "outputs": []
    },
    {
      "cell_type": "markdown",
      "metadata": {
        "id": "9ta07t86gvIp"
      },
      "source": [
        "#### Results\n",
        "Despite the promising intuition behind the approach, in practice the model failed to improve the baseline."
      ]
    },
    {
      "cell_type": "code",
      "metadata": {
        "colab": {
          "base_uri": "https://localhost:8080/"
        },
        "id": "RIOnq3p3gvIt",
        "outputId": "13611b6c-704e-4450-98d6-bb95badc70d9"
      },
      "source": [
        "# CrossVal\n",
        "reset_random_seeds()\n",
        "model = RandomForestClassifier(n_estimators=100, max_depth=None, class_weight='balanced',\n",
        "                               random_state=0, n_jobs=6)\n",
        "results = cross_validate(model, X=X_, y=y, scoring=['accuracy', 'balanced_accuracy'], cv=5)\n",
        "print(\"Mean balanced accuracy: \", np.mean(results['test_balanced_accuracy']))\n",
        "print(\"Mean accuracy: \", np.mean(results['test_accuracy']))\n"
      ],
      "execution_count": 11,
      "outputs": [
        {
          "output_type": "stream",
          "text": [
            "Mean balanced accuracy:  0.7312509327211005\n",
            "Mean accuracy:  0.9170572633016347\n"
          ],
          "name": "stdout"
        }
      ]
    },
    {
      "cell_type": "markdown",
      "metadata": {
        "id": "TUbk0BAUgvIv"
      },
      "source": [
        "It can be inferred from importance ratings that the newly introduced features bear little to no significance in comparison to the naive feature set."
      ]
    },
    {
      "cell_type": "code",
      "metadata": {
        "colab": {
          "base_uri": "https://localhost:8080/",
          "height": 265
        },
        "id": "C9swnRxNgvIv",
        "outputId": "d94c5846-7f81-408f-9222-e26dc2841575"
      },
      "source": [
        "# Importance\n",
        "model.fit(X_, y)\n",
        "plt.bar(range(X_.shape[1]), model.feature_importances_)\n",
        "plt.show()"
      ],
      "execution_count": 12,
      "outputs": [
        {
          "output_type": "display_data",
          "data": {
            "image/png": "[encoded data removed]",
            "text/plain": [
              "<Figure size 432x288 with 1 Axes>"
            ]
          },
          "metadata": {
            "tags": [],
            "needs_background": "light"
          }
        }
      ]
    },
    {
      "cell_type": "markdown",
      "metadata": {
        "id": "LWDQywXMgvIx"
      },
      "source": [
        "### Attempt 2: Spectral characteristics\n",
        "Another natural insight comes from the perspective of signal processing. It makes sense to assume that presence or absence of certain frequencies can tell a lot about the anomalies of one's heartbeat, therefore spectral density can serve as a useful source of diagnostic criteria."
      ]
    },
    {
      "cell_type": "code",
      "metadata": {
        "colab": {
          "base_uri": "https://localhost:8080/",
          "height": 247
        },
        "id": "32wyXvHSgvIy",
        "outputId": "874dd026-80fb-4a0c-f5d6-0dbe2bdde829"
      },
      "source": [
        "from scipy.signal import periodogram\n",
        "\n",
        "fig, axes = plt.subplots(1, 2)\n",
        "fig.set_figwidth(15)\n",
        "axes[0].plot(periodogram(X[0])[1], label=\"spectral density\")\n",
        "axes[0].legend()\n",
        "axes[1].plot(X[0], label=\"raw signal\")\n",
        "axes[1].legend()\n",
        "plt.show()"
      ],
      "execution_count": 13,
      "outputs": [
        {
          "output_type": "display_data",
          "data": {
            "image/png": "[encoded data removed]",
            "text/plain": [
              "<Figure size 1080x288 with 2 Axes>"
            ]
          },
          "metadata": {
            "tags": [],
            "needs_background": "light"
          }
        }
      ]
    },
    {
      "cell_type": "code",
      "metadata": {
        "id": "6W9KMXpTgvI0"
      },
      "source": [
        "# Feature computations\n",
        "def spectral_characteristics(x):\n",
        "    return np.concatenate((periodogram(x)[1][:25] * 10, x[::6]))\n",
        "\n",
        "\n",
        "X_ = np.apply_along_axis(spectral_characteristics, 1, X)"
      ],
      "execution_count": 14,
      "outputs": []
    },
    {
      "cell_type": "markdown",
      "metadata": {
        "id": "8DHstJ8qgvI0"
      },
      "source": [
        "#### Results\n",
        "Finally, an approach of ours succeeds at slightly improving the baseline. A humble improvement of 3% was achieved by introducing a part of the spectrum into the initial feature-set, granting an 11% reduction in mean error frequency. There were further trials of several new tweaks and feature ideas, but none of them were by a significant ammount superior to the approach in question."
      ]
    },
    {
      "cell_type": "code",
      "metadata": {
        "colab": {
          "base_uri": "https://localhost:8080/"
        },
        "id": "Vt1tB9EkgvI1",
        "outputId": "53b1bb29-dd63-41ac-aea4-349ab8f00503"
      },
      "source": [
        "# CrossVal\n",
        "reset_random_seeds()\n",
        "model = RandomForestClassifier(n_estimators=100, max_depth=None, class_weight='balanced',\n",
        "                               random_state=0, n_jobs=6)\n",
        "results = cross_validate(model, X=X_, y=y, scoring=['accuracy', 'balanced_accuracy'], cv=5)\n",
        "print(\"Mean balanced accuracy: \", np.mean(results['test_balanced_accuracy']))\n",
        "print(\"Mean accuracy: \", np.mean(results['test_accuracy']))\n"
      ],
      "execution_count": 15,
      "outputs": [
        {
          "output_type": "stream",
          "text": [
            "Mean balanced accuracy:  0.7631221269281674\n",
            "Mean accuracy:  0.9229940875806191\n"
          ],
          "name": "stdout"
        }
      ]
    },
    {
      "cell_type": "markdown",
      "metadata": {
        "id": "2UEf3l4egvI2"
      },
      "source": [
        "It can be observed from the feature ratings that certain densities of certain frequencies bear great diagnostic value and prety much all newly introduced features seem to be at the very least no less important then the naive features."
      ]
    },
    {
      "cell_type": "code",
      "metadata": {
        "colab": {
          "base_uri": "https://localhost:8080/",
          "height": 265
        },
        "id": "JBcBvdW6gvI4",
        "outputId": "93868aec-087a-4494-91f2-54db5eabed49"
      },
      "source": [
        "# Importance\n",
        "model.fit(X_, y)\n",
        "plt.bar(range(X_.shape[1]), model.feature_importances_)\n",
        "plt.show()"
      ],
      "execution_count": 16,
      "outputs": [
        {
          "output_type": "display_data",
          "data": {
            "image/png": "[encoded data removed]",
            "text/plain": [
              "<Figure size 432x288 with 1 Axes>"
            ]
          },
          "metadata": {
            "tags": [],
            "needs_background": "light"
          }
        }
      ]
    },
    {
      "cell_type": "markdown",
      "metadata": {
        "id": "jcupsB4vgvI-"
      },
      "source": [
        "# DL approach\n",
        "The potential application of deep learning, specifically convolutional neural networks, to this problem bears great promise due to the capability of CNNs to construct topology-aware features. Diagnosis via ECG readings is ALL ABOUT topology-aware features: spikes, drops, vibrations, plateaus, periodicity and so on. Some of those features can indeed be constructed manually by a quallified physician, however even the latter will not nescessarily be able to get the kind of insights that a CNN is capable of discovering automatically."
      ]
    },
    {
      "cell_type": "code",
      "metadata": {
        "id": "NrQNWmJfgvI_"
      },
      "source": [
        "reset_random_seeds()\n",
        "# Data preparation\n",
        "X_train, X_test, y_train, y_test = train_test_split(X, y, test_size=0.1)\n",
        "\n",
        "num_classes = 5\n",
        "\n",
        "y_Train=tf.keras.utils.to_categorical(y_train,num_classes)\n",
        "y_Train=y_Train.reshape(len(y_Train),num_classes)\n",
        "\n",
        "y_Test=tf.keras.utils.to_categorical(y_test,num_classes)\n",
        "y_Test=y_Test.reshape(len(y_Test),num_classes)"
      ],
      "execution_count": 17,
      "outputs": []
    },
    {
      "cell_type": "markdown",
      "metadata": {
        "id": "JegRGaHNgvI_"
      },
      "source": [
        "A reduced and tweaked version of the CNN described in [this paper](https://www.sciencedirect.com/science/article/pii/S0010482517302810?via%3Dihu)."
      ]
    },
    {
      "cell_type": "code",
      "metadata": {
        "colab": {
          "base_uri": "https://localhost:8080/"
        },
        "id": "tnISkkyEgvJA",
        "outputId": "f527d738-b0b1-4396-afe8-8f7bbfce179e"
      },
      "source": [
        "reset_random_seeds()\n",
        "\n",
        "inputs  = layers.Input(shape=(87,))\n",
        "reshape = layers.Reshape((87,1))(inputs)\n",
        "conv1   = layers.Conv1D(5,  3, activation='linear')(reshape)\n",
        "conv1   = layers.ReLU()(conv1)\n",
        "conv1   = layers.MaxPooling1D(2,2)(conv1)\n",
        "conv2   = layers.Conv1D(10, 4, activation='linear')(conv1)\n",
        "conv2   = layers.ReLU()(conv2)\n",
        "conv2   = layers.MaxPooling1D(2,2)(conv2)\n",
        "conv3   = layers.Conv1D(20, 4, activation='linear')(conv2)\n",
        "conv3   = layers.ReLU()(conv3)\n",
        "conv3   = layers.MaxPooling1D(2,2)(conv3)\n",
        "flat    = layers.Flatten()(conv3)\n",
        "dense1  = layers.Dense(15, activation='linear')(flat)\n",
        "dense1  = layers.ReLU()(dense1)\n",
        "dense2  = layers.Dense(12, activation='linear')(dense1)\n",
        "dense2  = layers.ReLU()(dense2)\n",
        "dense3  = layers.Dense(5, activation='softmax')(dense2)\n",
        "model   = tf.keras.Model(inputs=inputs, outputs=dense3)\n",
        "\n",
        "model.summary()"
      ],
      "execution_count": 18,
      "outputs": [
        {
          "output_type": "stream",
          "text": [
            "Model: \"model\"\n",
            "_________________________________________________________________\n",
            "Layer (type)                 Output Shape              Param #   \n",
            "=================================================================\n",
            "input_1 (InputLayer)         [(None, 87)]              0         \n",
            "_________________________________________________________________\n",
            "reshape (Reshape)            (None, 87, 1)             0         \n",
            "_________________________________________________________________\n",
            "conv1d (Conv1D)              (None, 85, 5)             20        \n",
            "_________________________________________________________________\n",
            "re_lu (ReLU)                 (None, 85, 5)             0         \n",
            "_________________________________________________________________\n",
            "max_pooling1d (MaxPooling1D) (None, 42, 5)             0         \n",
            "_________________________________________________________________\n",
            "conv1d_1 (Conv1D)            (None, 39, 10)            210       \n",
            "_________________________________________________________________\n",
            "re_lu_1 (ReLU)               (None, 39, 10)            0         \n",
            "_________________________________________________________________\n",
            "max_pooling1d_1 (MaxPooling1 (None, 19, 10)            0         \n",
            "_________________________________________________________________\n",
            "conv1d_2 (Conv1D)            (None, 16, 20)            820       \n",
            "_________________________________________________________________\n",
            "re_lu_2 (ReLU)               (None, 16, 20)            0         \n",
            "_________________________________________________________________\n",
            "max_pooling1d_2 (MaxPooling1 (None, 8, 20)             0         \n",
            "_________________________________________________________________\n",
            "flatten (Flatten)            (None, 160)               0         \n",
            "_________________________________________________________________\n",
            "dense (Dense)                (None, 15)                2415      \n",
            "_________________________________________________________________\n",
            "re_lu_3 (ReLU)               (None, 15)                0         \n",
            "_________________________________________________________________\n",
            "dense_1 (Dense)              (None, 12)                192       \n",
            "_________________________________________________________________\n",
            "re_lu_4 (ReLU)               (None, 12)                0         \n",
            "_________________________________________________________________\n",
            "dense_2 (Dense)              (None, 5)                 65        \n",
            "=================================================================\n",
            "Total params: 3,722\n",
            "Trainable params: 3,722\n",
            "Non-trainable params: 0\n",
            "_________________________________________________________________\n"
          ],
          "name": "stdout"
        }
      ]
    },
    {
      "cell_type": "code",
      "metadata": {
        "colab": {
          "base_uri": "https://localhost:8080/"
        },
        "id": "U3mIiGizgvJB",
        "outputId": "f809dca0-978f-40e9-9902-f998e83202f1"
      },
      "source": [
        "reset_random_seeds()\n",
        "model.compile(tf.keras.optimizers.Adam(),\n",
        "              loss=tf.keras.losses.CategoricalCrossentropy(),\n",
        "              metrics=[tf.keras.metrics.CategoricalAccuracy()])\n",
        "earlyStopping=tf.keras.callbacks.EarlyStopping(monitor= 'val_loss',\n",
        "                                               patience=3)\n",
        "train_history = model.fit(X_train, y_Train, batch_size=32, epochs=25, validation_split=0.3, callbacks=[earlyStopping],class_weight = class_weight)"
      ],
      "execution_count": 19,
      "outputs": [
        {
          "output_type": "stream",
          "text": [
            "Epoch 1/25\n",
            "2037/2037 [==============================] - 12s 5ms/step - loss: 0.2260 - categorical_accuracy: 0.8677 - val_loss: 0.3509 - val_categorical_accuracy: 0.8949\n",
            "Epoch 2/25\n",
            "2037/2037 [==============================] - 10s 5ms/step - loss: 0.1115 - categorical_accuracy: 0.8849 - val_loss: 0.3088 - val_categorical_accuracy: 0.9207\n",
            "Epoch 3/25\n",
            "2037/2037 [==============================] - 10s 5ms/step - loss: 0.0921 - categorical_accuracy: 0.9201 - val_loss: 0.2777 - val_categorical_accuracy: 0.9152\n",
            "Epoch 4/25\n",
            "2037/2037 [==============================] - 10s 5ms/step - loss: 0.0761 - categorical_accuracy: 0.9371 - val_loss: 0.2194 - val_categorical_accuracy: 0.9483\n",
            "Epoch 5/25\n",
            "2037/2037 [==============================] - 10s 5ms/step - loss: 0.0652 - categorical_accuracy: 0.9510 - val_loss: 0.1729 - val_categorical_accuracy: 0.9589\n",
            "Epoch 6/25\n",
            "2037/2037 [==============================] - 10s 5ms/step - loss: 0.0583 - categorical_accuracy: 0.9527 - val_loss: 0.1373 - val_categorical_accuracy: 0.9643\n",
            "Epoch 7/25\n",
            "2037/2037 [==============================] - 10s 5ms/step - loss: 0.0523 - categorical_accuracy: 0.9585 - val_loss: 0.1677 - val_categorical_accuracy: 0.9570\n",
            "Epoch 8/25\n",
            "2037/2037 [==============================] - 10s 5ms/step - loss: 0.0499 - categorical_accuracy: 0.9609 - val_loss: 0.2105 - val_categorical_accuracy: 0.9488\n",
            "Epoch 9/25\n",
            "2037/2037 [==============================] - 10s 5ms/step - loss: 0.0455 - categorical_accuracy: 0.9628 - val_loss: 0.1717 - val_categorical_accuracy: 0.9619\n"
          ],
          "name": "stdout"
        }
      ]
    },
    {
      "cell_type": "code",
      "metadata": {
        "colab": {
          "base_uri": "https://localhost:8080/",
          "height": 295
        },
        "id": "p42HYJQRgvJC",
        "outputId": "7e61dd7e-3d35-43c7-e085-a46d5f9e364e"
      },
      "source": [
        "show_train_history(train_history, 'categorical_accuracy', 'val_categorical_accuracy')"
      ],
      "execution_count": 20,
      "outputs": [
        {
          "output_type": "display_data",
          "data": {
            "image/png": "[encoded data removed]",
            "text/plain": [
              "<Figure size 432x288 with 1 Axes>"
            ]
          },
          "metadata": {
            "tags": [],
            "needs_background": "light"
          }
        }
      ]
    },
    {
      "cell_type": "markdown",
      "metadata": {
        "id": "SPZWt6CygvJD"
      },
      "source": [
        "#### Results\n",
        "Lo and behold, the produced model has a mean recall (balanced accuracy) of a whopping 89%! The DL approach yields an error rate that is less than **HALF** as large as the one yielded by feature engineering."
      ]
    },
    {
      "cell_type": "code",
      "metadata": {
        "colab": {
          "base_uri": "https://localhost:8080/"
        },
        "id": "OUQWSA-5gvJD",
        "outputId": "1d552bb9-0daf-4cce-8faf-def8f0562f8b"
      },
      "source": [
        "prediction = model.predict(X_test,batch_size=32)\n",
        "prediction = prediction.argmax(axis=-1)\n",
        "print(\"Accuracy: \", accuracy_score(y_test, prediction))\n",
        "print(\"Balanced accuracy: \", balanced_accuracy_score(y_test, prediction))"
      ],
      "execution_count": 21,
      "outputs": [
        {
          "output_type": "stream",
          "text": [
            "Accuracy:  0.9649037996712753\n",
            "Balanced accuracy:  0.8875451839227304\n"
          ],
          "name": "stdout"
        }
      ]
    },
    {
      "cell_type": "code",
      "metadata": {
        "colab": {
          "base_uri": "https://localhost:8080/"
        },
        "id": "18PGc_VxgvJE",
        "outputId": "68f63644-f0b8-49c8-91ef-520324fb2786"
      },
      "source": [
        "print(\"CONFUSION MATRIX:\")\n",
        "confusion_matrix = pd.crosstab(y_test, prediction, rownames=['label'], colnames=['predict'])\n",
        "show_confusion_matrix(confusion_matrix)"
      ],
      "execution_count": 22,
      "outputs": [
        {
          "output_type": "stream",
          "text": [
            "CONFUSION MATRIX:\n",
            "\n",
            "predict     0    1    2   3    4\n",
            "label                           \n",
            "0        8854  151   54  51    0\n",
            "1          40  178    0   0    0\n",
            "2          26    8  542   8    0\n",
            "3          21    0    3  63    0\n",
            "4           0    0    1   0  343\n",
            "acc  = 96.68% , 98.08% , 99.03% , 99.2% , 99.99% \n",
            "ppv  = 99.03% , 52.82% , 90.33% , 51.64% , 100.0% \n",
            "sen  = 97.19% , 81.65% , 92.81% , 72.41% , 99.71% \n",
            "spec = 92.94% , 98.43% , 99.41% , 99.42% , 100.0% \n"
          ],
          "name": "stdout"
        }
      ]
    },
    {
      "cell_type": "markdown",
      "metadata": {
        "id": "otrBw1bvgvJF"
      },
      "source": [
        "pretty good, right?\n",
        "# NOW LET'S SEE IF WE CAN MAKE IT EVEN BETTER\n"
      ]
    },
    {
      "cell_type": "markdown",
      "metadata": {
        "id": "hNHeptELozAw"
      },
      "source": [
        "We tried to add a LSTM layer to the architecture. Based on the result obtained, our best choice is the LSTM layer with 5 units and 0.2 recurrent drop out."
      ]
    },
    {
      "cell_type": "code",
      "metadata": {
        "colab": {
          "base_uri": "https://localhost:8080/"
        },
        "id": "ztsSte38gvJG",
        "outputId": "aeddff1c-847d-478c-8d01-d2ef9849033d"
      },
      "source": [
        "reset_random_seeds()\n",
        "\n",
        "inputs  = layers.Input(shape=(87,))\n",
        "reshape = layers.Reshape((87,1))(inputs)\n",
        "\n",
        "conv1   = layers.Conv1D(5,  3, activation='linear')(reshape)\n",
        "conv1   = layers.ReLU()(conv1)\n",
        "conv1   = layers.MaxPooling1D(2,2)(conv1)\n",
        "conv2   = layers.Conv1D(10, 4, activation='linear')(conv1)\n",
        "conv2   = layers.ReLU()(conv2)\n",
        "conv2   = layers.MaxPooling1D(2,2)(conv2)\n",
        "conv3   = layers.Conv1D(20, 4, activation='linear')(conv2)\n",
        "conv3   = layers.ReLU()(conv3)\n",
        "conv3   = layers.MaxPooling1D(2,2)(conv3)\n",
        "flat    = layers.Flatten()(conv3)\n",
        "cnn_dense = layers.Dense(15, activation='linear')(flat)\n",
        "cnn_dense = layers.ReLU()(cnn_dense)\n",
        "\n",
        "lstm1 = layers.LSTM(5,recurrent_dropout=0.2)(reshape)\n",
        "lstm_dense = layers.Dense(5, activation='linear')(lstm1)\n",
        "lstm_dense = layers.ReLU()(lstm_dense)\n",
        "\n",
        "concat = layers.Concatenate(axis=-1)([cnn_dense, lstm_dense])\n",
        "dense2  = layers.Dense(15, activation='linear')(concat)\n",
        "dense2  = layers.ReLU()(dense2)\n",
        "dense3  = layers.Dense(5, activation='softmax')(dense2)\n",
        "model   = tf.keras.Model(inputs=inputs, outputs=dense3)\n",
        "\n",
        "model.summary()"
      ],
      "execution_count": 23,
      "outputs": [
        {
          "output_type": "stream",
          "text": [
            "Model: \"model_1\"\n",
            "__________________________________________________________________________________________________\n",
            "Layer (type)                    Output Shape         Param #     Connected to                     \n",
            "==================================================================================================\n",
            "input_2 (InputLayer)            [(None, 87)]         0                                            \n",
            "__________________________________________________________________________________________________\n",
            "reshape_1 (Reshape)             (None, 87, 1)        0           input_2[0][0]                    \n",
            "__________________________________________________________________________________________________\n",
            "conv1d_3 (Conv1D)               (None, 85, 5)        20          reshape_1[0][0]                  \n",
            "__________________________________________________________________________________________________\n",
            "re_lu_5 (ReLU)                  (None, 85, 5)        0           conv1d_3[0][0]                   \n",
            "__________________________________________________________________________________________________\n",
            "max_pooling1d_3 (MaxPooling1D)  (None, 42, 5)        0           re_lu_5[0][0]                    \n",
            "__________________________________________________________________________________________________\n",
            "conv1d_4 (Conv1D)               (None, 39, 10)       210         max_pooling1d_3[0][0]            \n",
            "__________________________________________________________________________________________________\n",
            "re_lu_6 (ReLU)                  (None, 39, 10)       0           conv1d_4[0][0]                   \n",
            "__________________________________________________________________________________________________\n",
            "max_pooling1d_4 (MaxPooling1D)  (None, 19, 10)       0           re_lu_6[0][0]                    \n",
            "__________________________________________________________________________________________________\n",
            "conv1d_5 (Conv1D)               (None, 16, 20)       820         max_pooling1d_4[0][0]            \n",
            "__________________________________________________________________________________________________\n",
            "re_lu_7 (ReLU)                  (None, 16, 20)       0           conv1d_5[0][0]                   \n",
            "__________________________________________________________________________________________________\n",
            "max_pooling1d_5 (MaxPooling1D)  (None, 8, 20)        0           re_lu_7[0][0]                    \n",
            "__________________________________________________________________________________________________\n",
            "flatten_1 (Flatten)             (None, 160)          0           max_pooling1d_5[0][0]            \n",
            "__________________________________________________________________________________________________\n",
            "lstm (LSTM)                     (None, 5)            140         reshape_1[0][0]                  \n",
            "__________________________________________________________________________________________________\n",
            "dense_3 (Dense)                 (None, 15)           2415        flatten_1[0][0]                  \n",
            "__________________________________________________________________________________________________\n",
            "dense_4 (Dense)                 (None, 5)            30          lstm[0][0]                       \n",
            "__________________________________________________________________________________________________\n",
            "re_lu_8 (ReLU)                  (None, 15)           0           dense_3[0][0]                    \n",
            "__________________________________________________________________________________________________\n",
            "re_lu_9 (ReLU)                  (None, 5)            0           dense_4[0][0]                    \n",
            "__________________________________________________________________________________________________\n",
            "concatenate (Concatenate)       (None, 20)           0           re_lu_8[0][0]                    \n",
            "                                                                 re_lu_9[0][0]                    \n",
            "__________________________________________________________________________________________________\n",
            "dense_5 (Dense)                 (None, 15)           315         concatenate[0][0]                \n",
            "__________________________________________________________________________________________________\n",
            "re_lu_10 (ReLU)                 (None, 15)           0           dense_5[0][0]                    \n",
            "__________________________________________________________________________________________________\n",
            "dense_6 (Dense)                 (None, 5)            80          re_lu_10[0][0]                   \n",
            "==================================================================================================\n",
            "Total params: 4,030\n",
            "Trainable params: 4,030\n",
            "Non-trainable params: 0\n",
            "__________________________________________________________________________________________________\n"
          ],
          "name": "stdout"
        }
      ]
    },
    {
      "cell_type": "code",
      "metadata": {
        "colab": {
          "base_uri": "https://localhost:8080/"
        },
        "id": "Az7EPz2ngvJH",
        "outputId": "e9225fd5-57eb-47d3-a61d-d765d6943046"
      },
      "source": [
        "model.compile(tf.keras.optimizers.Adam(),\n",
        "              loss=tf.keras.losses.CategoricalCrossentropy(),\n",
        "              metrics=[tf.keras.metrics.CategoricalAccuracy()])\n",
        "earlyStopping=tf.keras.callbacks.EarlyStopping(monitor= 'val_loss',\n",
        "                                               patience=6, restore_best_weights=True)\n",
        "train_history = model.fit(X_train, y_Train, batch_size=128, epochs=40, validation_split=0.3, callbacks=[earlyStopping],class_weight = class_weight)"
      ],
      "execution_count": 24,
      "outputs": [
        {
          "output_type": "stream",
          "text": [
            "Epoch 1/40\n",
            "510/510 [==============================] - 36s 66ms/step - loss: 0.2894 - categorical_accuracy: 0.8084 - val_loss: 0.3816 - val_categorical_accuracy: 0.9029\n",
            "Epoch 2/40\n",
            "510/510 [==============================] - 36s 71ms/step - loss: 0.1454 - categorical_accuracy: 0.8829 - val_loss: 0.3649 - val_categorical_accuracy: 0.8903\n",
            "Epoch 3/40\n",
            "510/510 [==============================] - 36s 71ms/step - loss: 0.1251 - categorical_accuracy: 0.8888 - val_loss: 0.3269 - val_categorical_accuracy: 0.9216\n",
            "Epoch 4/40\n",
            "510/510 [==============================] - 36s 72ms/step - loss: 0.1099 - categorical_accuracy: 0.9073 - val_loss: 0.3111 - val_categorical_accuracy: 0.9209\n",
            "Epoch 5/40\n",
            "510/510 [==============================] - 36s 71ms/step - loss: 0.1011 - categorical_accuracy: 0.9220 - val_loss: 0.2806 - val_categorical_accuracy: 0.9285\n",
            "Epoch 6/40\n",
            "510/510 [==============================] - 36s 71ms/step - loss: 0.0951 - categorical_accuracy: 0.9274 - val_loss: 0.2128 - val_categorical_accuracy: 0.9561\n",
            "Epoch 7/40\n",
            "510/510 [==============================] - 36s 70ms/step - loss: 0.0868 - categorical_accuracy: 0.9372 - val_loss: 0.2251 - val_categorical_accuracy: 0.9427\n",
            "Epoch 8/40\n",
            "510/510 [==============================] - 36s 70ms/step - loss: 0.0805 - categorical_accuracy: 0.9414 - val_loss: 0.3518 - val_categorical_accuracy: 0.9128\n",
            "Epoch 9/40\n",
            "510/510 [==============================] - 36s 71ms/step - loss: 0.0772 - categorical_accuracy: 0.9433 - val_loss: 0.2075 - val_categorical_accuracy: 0.9556\n",
            "Epoch 10/40\n",
            "510/510 [==============================] - 36s 70ms/step - loss: 0.0700 - categorical_accuracy: 0.9475 - val_loss: 0.2221 - val_categorical_accuracy: 0.9494\n",
            "Epoch 11/40\n",
            "510/510 [==============================] - 36s 71ms/step - loss: 0.0705 - categorical_accuracy: 0.9436 - val_loss: 0.2223 - val_categorical_accuracy: 0.9484\n",
            "Epoch 12/40\n",
            "510/510 [==============================] - 36s 70ms/step - loss: 0.0666 - categorical_accuracy: 0.9472 - val_loss: 0.1601 - val_categorical_accuracy: 0.9570\n",
            "Epoch 13/40\n",
            "510/510 [==============================] - 36s 70ms/step - loss: 0.0604 - categorical_accuracy: 0.9532 - val_loss: 0.2473 - val_categorical_accuracy: 0.9399\n",
            "Epoch 14/40\n",
            "510/510 [==============================] - 36s 71ms/step - loss: 0.0583 - categorical_accuracy: 0.9520 - val_loss: 0.1848 - val_categorical_accuracy: 0.9489\n",
            "Epoch 15/40\n",
            "510/510 [==============================] - 35s 70ms/step - loss: 0.0555 - categorical_accuracy: 0.9557 - val_loss: 0.1281 - val_categorical_accuracy: 0.9681\n",
            "Epoch 16/40\n",
            "510/510 [==============================] - 36s 70ms/step - loss: 0.0554 - categorical_accuracy: 0.9554 - val_loss: 0.1896 - val_categorical_accuracy: 0.9550\n",
            "Epoch 17/40\n",
            "510/510 [==============================] - 35s 69ms/step - loss: 0.0514 - categorical_accuracy: 0.9595 - val_loss: 0.1191 - val_categorical_accuracy: 0.9691\n",
            "Epoch 18/40\n",
            "510/510 [==============================] - 36s 70ms/step - loss: 0.0506 - categorical_accuracy: 0.9602 - val_loss: 0.1354 - val_categorical_accuracy: 0.9644\n",
            "Epoch 19/40\n",
            "510/510 [==============================] - 36s 71ms/step - loss: 0.0451 - categorical_accuracy: 0.9631 - val_loss: 0.1056 - val_categorical_accuracy: 0.9737\n",
            "Epoch 20/40\n",
            "510/510 [==============================] - 36s 70ms/step - loss: 0.0469 - categorical_accuracy: 0.9631 - val_loss: 0.1617 - val_categorical_accuracy: 0.9575\n",
            "Epoch 21/40\n",
            "510/510 [==============================] - 36s 70ms/step - loss: 0.0463 - categorical_accuracy: 0.9597 - val_loss: 0.1338 - val_categorical_accuracy: 0.9662\n",
            "Epoch 22/40\n",
            "510/510 [==============================] - 36s 71ms/step - loss: 0.0407 - categorical_accuracy: 0.9668 - val_loss: 0.1572 - val_categorical_accuracy: 0.9612\n",
            "Epoch 23/40\n",
            "510/510 [==============================] - 36s 71ms/step - loss: 0.0372 - categorical_accuracy: 0.9695 - val_loss: 0.1012 - val_categorical_accuracy: 0.9727\n",
            "Epoch 24/40\n",
            "510/510 [==============================] - 36s 70ms/step - loss: 0.0387 - categorical_accuracy: 0.9682 - val_loss: 0.1081 - val_categorical_accuracy: 0.9736\n",
            "Epoch 25/40\n",
            "510/510 [==============================] - 35s 70ms/step - loss: 0.0359 - categorical_accuracy: 0.9700 - val_loss: 0.1267 - val_categorical_accuracy: 0.9676\n",
            "Epoch 26/40\n",
            "510/510 [==============================] - 36s 70ms/step - loss: 0.0348 - categorical_accuracy: 0.9702 - val_loss: 0.1025 - val_categorical_accuracy: 0.9763\n",
            "Epoch 27/40\n",
            "510/510 [==============================] - 35s 70ms/step - loss: 0.0329 - categorical_accuracy: 0.9711 - val_loss: 0.0915 - val_categorical_accuracy: 0.9745\n",
            "Epoch 28/40\n",
            "510/510 [==============================] - 36s 70ms/step - loss: 0.0339 - categorical_accuracy: 0.9708 - val_loss: 0.1096 - val_categorical_accuracy: 0.9731\n",
            "Epoch 29/40\n",
            "510/510 [==============================] - 36s 70ms/step - loss: 0.0320 - categorical_accuracy: 0.9730 - val_loss: 0.1061 - val_categorical_accuracy: 0.9721\n",
            "Epoch 30/40\n",
            "510/510 [==============================] - 36s 70ms/step - loss: 0.0315 - categorical_accuracy: 0.9727 - val_loss: 0.0912 - val_categorical_accuracy: 0.9750\n",
            "Epoch 31/40\n",
            "510/510 [==============================] - 36s 71ms/step - loss: 0.0318 - categorical_accuracy: 0.9720 - val_loss: 0.0915 - val_categorical_accuracy: 0.9740\n",
            "Epoch 32/40\n",
            "510/510 [==============================] - 36s 71ms/step - loss: 0.0329 - categorical_accuracy: 0.9707 - val_loss: 0.0860 - val_categorical_accuracy: 0.9754\n",
            "Epoch 33/40\n",
            "510/510 [==============================] - 36s 71ms/step - loss: 0.0283 - categorical_accuracy: 0.9750 - val_loss: 0.1038 - val_categorical_accuracy: 0.9727\n",
            "Epoch 34/40\n",
            "510/510 [==============================] - 35s 68ms/step - loss: 0.0282 - categorical_accuracy: 0.9746 - val_loss: 0.0894 - val_categorical_accuracy: 0.9773\n",
            "Epoch 35/40\n",
            "510/510 [==============================] - 35s 68ms/step - loss: 0.0282 - categorical_accuracy: 0.9738 - val_loss: 0.1078 - val_categorical_accuracy: 0.9712\n",
            "Epoch 36/40\n",
            "510/510 [==============================] - 35s 70ms/step - loss: 0.0286 - categorical_accuracy: 0.9749 - val_loss: 0.0952 - val_categorical_accuracy: 0.9712\n",
            "Epoch 37/40\n",
            "510/510 [==============================] - 35s 69ms/step - loss: 0.0268 - categorical_accuracy: 0.9757 - val_loss: 0.1019 - val_categorical_accuracy: 0.9697\n",
            "Epoch 38/40\n",
            "510/510 [==============================] - 35s 69ms/step - loss: 0.0279 - categorical_accuracy: 0.9750 - val_loss: 0.1101 - val_categorical_accuracy: 0.9709\n"
          ],
          "name": "stdout"
        }
      ]
    },
    {
      "cell_type": "code",
      "metadata": {
        "colab": {
          "base_uri": "https://localhost:8080/",
          "height": 295
        },
        "id": "m9WliTVTgvJI",
        "outputId": "3183599e-5023-4a8b-c727-b50262ba2445"
      },
      "source": [
        "show_train_history(train_history, 'categorical_accuracy', 'val_categorical_accuracy')"
      ],
      "execution_count": 25,
      "outputs": [
        {
          "output_type": "display_data",
          "data": {
            "image/png": "[encoded data removed]",
            "text/plain": [
              "<Figure size 432x288 with 1 Axes>"
            ]
          },
          "metadata": {
            "tags": [],
            "needs_background": "light"
          }
        }
      ]
    },
    {
      "cell_type": "markdown",
      "metadata": {
        "id": "eCTuptDxgvJJ"
      },
      "source": [
        "#### Results\n",
        "The introduction of LSTM-CNN hybrid architecture imporoved the balanced accuracy all the way to 92%, reducing the average misclassification frequency by 23% in comparison to the non-hybrid architecture. A remarkable boost in performance!"
      ]
    },
    {
      "cell_type": "code",
      "metadata": {
        "colab": {
          "base_uri": "https://localhost:8080/"
        },
        "id": "9z3O5OFcgvJK",
        "outputId": "3b2ebb1d-5c2a-4528-9e8a-9de7a032d2c2"
      },
      "source": [
        "prediction = model.predict(X_test,batch_size=32)\n",
        "prediction = prediction.argmax(axis=-1)\n",
        "print(\"Accuracy: \", accuracy_score(y_test, prediction))\n",
        "print(\"Balanced accuracy: \", balanced_accuracy_score(y_test, prediction))"
      ],
      "execution_count": 26,
      "outputs": [
        {
          "output_type": "stream",
          "text": [
            "Accuracy:  0.9774726868413419\n",
            "Balanced accuracy:  0.9152531820570466\n"
          ],
          "name": "stdout"
        }
      ]
    },
    {
      "cell_type": "code",
      "metadata": {
        "colab": {
          "base_uri": "https://localhost:8080/"
        },
        "id": "42pLWGOZgvJL",
        "outputId": "1b66fcbb-28c8-4ca3-f442-0b5ee6e96324"
      },
      "source": [
        "print(\"CONFUSION MATRIX:\")\n",
        "confusion_matrix = pd.crosstab(y_test, prediction, rownames=['label'], colnames=['predict'])\n",
        "show_confusion_matrix(confusion_matrix)"
      ],
      "execution_count": 27,
      "outputs": [
        {
          "output_type": "stream",
          "text": [
            "CONFUSION MATRIX:\n",
            "\n",
            "predict     0    1    2   3    4\n",
            "label                           \n",
            "0        8951  106   36  16    1\n",
            "1          36  182    0   0    0\n",
            "2          15    1  564   4    0\n",
            "3          16    0    2  69    0\n",
            "4           0    0    0   0  344\n",
            "acc  = 97.81% , 98.62% , 99.44% , 99.63% , 99.99% \n",
            "ppv  = 99.26% , 62.98% , 93.69% , 77.53% , 99.71% \n",
            "sen  = 98.25% , 83.49% , 96.58% , 79.31% , 100.0% \n",
            "spec = 94.57% , 98.94% , 99.61% , 99.8% , 99.99% \n"
          ],
          "name": "stdout"
        }
      ]
    }
  ]
}