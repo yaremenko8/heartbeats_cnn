{
 "cells": [
  {
   "cell_type": "markdown",
   "metadata": {},
   "source": [
    "## Imports, procedures and data preparation"
   ]
  },
  {
   "cell_type": "code",
   "execution_count": 2,
   "metadata": {},
   "outputs": [],
   "source": [
    "import os\n",
    "import numpy as np\n",
    "import pandas as pd\n",
    "import matplotlib.pyplot as plt\n",
    "\n",
    "from sklearn.model_selection import train_test_split\n",
    "from sklearn.metrics import accuracy_score\n",
    "\n",
    "import tensorflow as tf\n",
    "from tensorflow.keras import layers\n",
    "\n",
    "import xgboost as xgb\n",
    "from sklearn.neighbors import KNeighborsClassifier as KNN\n",
    "from sklearn.ensemble import RandomForestClassifier\n",
    "from sklearn.model_selection import cross_validate\n",
    "\n",
    "np.random.seed(2)\n",
    "tf.random.set_seed(2)"
   ]
  },
  {
   "cell_type": "code",
   "execution_count": 3,
   "metadata": {},
   "outputs": [],
   "source": [
    "def show_train_history(train_history, train, validation):\n",
    "    plt.plot(train_history.history[train])\n",
    "    plt.plot(train_history.history[validation])\n",
    "    plt.title('Train History')\n",
    "    plt.ylabel('train')\n",
    "    plt.xlabel('Epoch')\n",
    "    plt.legend(['train', 'validation'], loc='upper left')\n",
    "    plt.show()\n",
    "\n",
    "from sklearn.metrics import balanced_accuracy_score, accuracy_score\n",
    "    \n",
    "def show_confusion_matrix(confusion_matrix):\n",
    "    print('\\n' + str(confusion_matrix))\n",
    "    FP = confusion_matrix.sum(axis=0) - np.diag(confusion_matrix)  \n",
    "    FN = confusion_matrix.sum(axis=1) - np.diag(confusion_matrix)\n",
    "    TP = np.diag(confusion_matrix)\n",
    "    TN = confusion_matrix.values.sum() - (FP + FN + TP)\n",
    "\n",
    "    # Sensitivity, hit rate, recall, or true positive rate\n",
    "    TPR = TP/(TP+FN)\n",
    "    # Specificity or true negative rate\n",
    "    TNR = TN/(TN+FP) \n",
    "    # Precision or positive predictive value\n",
    "    PPV = TP/(TP+FP)\n",
    "    # Overall accuracy\n",
    "    ACC = (TP+TN)/(TP+FP+FN+TN)\n",
    "\n",
    "    print('acc  = ' + str(round(ACC[0]*100.0,2)) + '% , ' + \\\n",
    "          str(round(ACC[1]*100.0,2)) + '% , ' + \\\n",
    "          str(round(ACC[2]*100.0,2)) + '% , ' + \\\n",
    "          str(round(ACC[3]*100.0,2)) + '% , ' + \\\n",
    "          str(round(ACC[4]*100.0,2)) + '% ')\n",
    "    print('ppv  = ' + str(round(PPV[0]*100.0,2)) + '% , ' + \\\n",
    "          str(round(PPV[1]*100.0,2)) + '% , ' + \\\n",
    "          str(round(PPV[2]*100.0,2)) + '% , ' + \\\n",
    "          str(round(PPV[3]*100.0,2)) + '% , ' + \\\n",
    "          str(round(PPV[4]*100.0,2)) + '% ')\n",
    "    print('sen  = ' + str(round(TPR[0]*100.0,2)) + '% , ' + \\\n",
    "          str(round(TPR[1]*100.0,2)) + '% , ' + \\\n",
    "          str(round(TPR[2]*100.0,2)) + '% , ' + \\\n",
    "          str(round(TPR[3]*100.0,2)) + '% , ' + \\\n",
    "          str(round(TPR[4]*100.0,2)) + '% ')\n",
    "    print('spec = ' + str(round(TNR[0]*100.0,2)) + '% , ' + \\\n",
    "          str(round(TNR[1]*100.0,2)) + '% , ' + \\\n",
    "          str(round(TNR[2]*100.0,2)) + '% , ' + \\\n",
    "          str(round(TNR[3]*100.0,2)) + '% , ' + \\\n",
    "          str(round(TNR[4]*100.0,2)) + '% ')"
   ]
  },
  {
   "cell_type": "code",
   "execution_count": 4,
   "metadata": {},
   "outputs": [],
   "source": [
    "# MIT-BIH Arrhythmia Database\n",
    "# https://physionet.org/content/mitdb/1.0.0/\n",
    "mitdbs = [100,101,102,103,104,105,106,107,108,109,111,112,113,114,115,116,117,118,119,121,122,123,124,200,201,202,203,205,207,208,209,210,212,213,214,215,217,219,220,221,222,223,228,230,231,232,233,234]"
   ]
  },
  {
   "cell_type": "code",
   "execution_count": 5,
   "metadata": {},
   "outputs": [
    {
     "name": "stdout",
     "output_type": "stream",
     "text": [
      "./beats/102.npy file does not exist\n",
      "./beats/104.npy file does not exist\n",
      "(103421, 87)\n"
     ]
    }
   ],
   "source": [
    "X_list = list() \n",
    "y_list = list()\n",
    "for db in mitdbs:\n",
    "    if os.path.isfile('./beats/'+ str(db) + '.npy') : \n",
    "        db_dict = np.load('./beats/'+ str(db) + '.npy', allow_pickle=True).item()\n",
    "        beats   = db_dict['beats']\n",
    "    \n",
    "        for beat in beats :\n",
    "            # X is ECG signal\n",
    "            X_list.append(beat[1][::3])\n",
    "            # y is categorie\n",
    "            y_list.append(beat[0])\n",
    "    else :\n",
    "        print('./beats/'+ str(db) + '.npy' + ' file does not exist')\n",
    "\n",
    "    \n",
    "X = np.array(X_list)\n",
    "y = np.array(y_list)\n",
    "X = (X - np.min(X)) / (np.max(X) - np.min(X))\n",
    "print(X.shape)"
   ]
  },
  {
   "cell_type": "code",
   "execution_count": 6,
   "metadata": {},
   "outputs": [
    {
     "name": "stdout",
     "output_type": "stream",
     "text": [
      "Type N number of beats = 90078\n",
      "Type S number of beats = 2704\n",
      "Type V number of beats = 6271\n",
      "Type F number of beats = 786\n",
      "Type Q number of beats = 3582\n",
      "Total  number of beats = 103421\n"
     ]
    }
   ],
   "source": [
    "print('Type N number of beats = ' + str(len(np.where(y==0)[0])))\n",
    "print('Type S number of beats = ' + str(len(np.where(y==1)[0])))\n",
    "print('Type V number of beats = ' + str(len(np.where(y==2)[0])))\n",
    "print('Type F number of beats = ' + str(len(np.where(y==3)[0])))\n",
    "print('Type Q number of beats = ' + str(len(np.where(y==4)[0])))\n",
    "print('Total  number of beats = ' + str(len(y)))"
   ]
  },
  {
   "cell_type": "code",
   "execution_count": 7,
   "metadata": {},
   "outputs": [
    {
     "name": "stdout",
     "output_type": "stream",
     "text": [
      "{0: 0.12901635064445327, 1: 0.9738544396205799, 2: 0.9393643457324915, 3: 0.9923999961323136, 4: 0.9653648678701617}\n"
     ]
    }
   ],
   "source": [
    "weight0 = 1.0 - (len(np.where(y==0)[0]) / len(y))\n",
    "weight1 = 1.0 - (len(np.where(y==1)[0]) / len(y))\n",
    "weight2 = 1.0 - (len(np.where(y==2)[0]) / len(y))\n",
    "weight3 = 1.0 - (len(np.where(y==3)[0]) / len(y))\n",
    "weight4 = 1.0 - (len(np.where(y==4)[0]) / len(y))\n",
    "class_weight = {0: weight0 , 1: weight1 , 2: weight2 ,3 : weight3 , 4 : weight4}\n",
    "weights = [weight0 , weight1 , weight2 , weight3 , weight4]\n",
    "print(class_weight)"
   ]
  },
  {
   "cell_type": "markdown",
   "metadata": {},
   "source": [
    "# Feature engineering approach"
   ]
  },
  {
   "cell_type": "markdown",
   "metadata": {},
   "source": [
    "### Attempt 0: Naive baseline\n",
    "The most obvious feature set is simply the downsampled signal. This rather simplistic approach may not achieve good results, though it can certainly be used as an informative benchmark to compare against."
   ]
  },
  {
   "cell_type": "code",
   "execution_count": 8,
   "metadata": {},
   "outputs": [],
   "source": [
    "# Feature computations\n",
    "X_ = X[:, ::6].copy()"
   ]
  },
  {
   "cell_type": "markdown",
   "metadata": {},
   "source": [
    "#### Results\n",
    "Despite its embarassing simplicity, this feature-set yields an average recall of 75.4%, which is not too bad."
   ]
  },
  {
   "cell_type": "code",
   "execution_count": 9,
   "metadata": {},
   "outputs": [
    {
     "name": "stdout",
     "output_type": "stream",
     "text": [
      "Mean balanced accuracy:  0.7343962695494177\n",
      "Mean accuracy:  0.9184979913686279\n"
     ]
    }
   ],
   "source": [
    "# CrossVal\n",
    "model = RandomForestClassifier(n_estimators=100, max_depth=None, class_weight='balanced',\n",
    "                               random_state=0, n_jobs=6)\n",
    "\n",
    "\n",
    "results = cross_validate(model, X=X_, y=y, scoring=['accuracy', 'balanced_accuracy'], cv=5)\n",
    "print(\"Mean balanced accuracy: \", np.mean(results['test_balanced_accuracy']))\n",
    "print(\"Mean accuracy: \", np.mean(results['test_accuracy']))\n"
   ]
  },
  {
   "cell_type": "markdown",
   "metadata": {},
   "source": [
    "### Attempt 1: Extrema and their locations\n",
    "The first approach that we tried in our endevour for decent accuracy in the absence of deep learning is using the data about extrema to predict disorders. On the surface it does seem like a decent approach, since such important metrics as QT interval, heart rate, blood pressure and most important parameters that regard each of the PQRS intervals are all determined by minima, maxima and their locations."
   ]
  },
  {
   "cell_type": "code",
   "execution_count": 10,
   "metadata": {},
   "outputs": [],
   "source": [
    "# Feature computations\n",
    "from scipy.signal import find_peaks\n",
    "\n",
    "def ordered_extrema(x, num_maxima=3, num_minima=3):\n",
    "    maxima = find_peaks(x)[0]\n",
    "    total_maxima = maxima.size\n",
    "    maxima = maxima[:num_maxima]\n",
    "    maxima = np.argsort(-x[maxima])\n",
    "    maxima_values = x[maxima]\n",
    "    missing_maxima = num_maxima - maxima.size\n",
    "    maxima = np.concatenate((maxima, -np.ones(missing_maxima)))\n",
    "    maxima_values = np.concatenate((maxima_values, -np.ones(missing_maxima)))\n",
    "    \n",
    "    minima = find_peaks(-x)[0]\n",
    "    total_minima = minima.size\n",
    "    minima = minima[:num_minima]\n",
    "    minima = np.argsort(x[minima])\n",
    "    minima_values = x[minima]\n",
    "    missing_minima = num_minima - minima.size\n",
    "    minima = np.concatenate((minima, -np.ones(missing_minima)))\n",
    "    minima_values = np.concatenate((minima_values, -np.ones(missing_minima)))\n",
    "    \n",
    "    return np.concatenate((maxima, \n",
    "                           maxima_values, \n",
    "                           minima, \n",
    "                           minima_values,\n",
    "                           [total_maxima + total_minima],\n",
    "                           x[::6]))\n",
    "\n",
    "\n",
    "X_ = np.apply_along_axis(ordered_extrema, 1, X)"
   ]
  },
  {
   "cell_type": "markdown",
   "metadata": {},
   "source": [
    "#### Results\n",
    "Despite the promising intuition behind the approach, in practice the model failed to improve the baseline."
   ]
  },
  {
   "cell_type": "code",
   "execution_count": 11,
   "metadata": {},
   "outputs": [
    {
     "name": "stdout",
     "output_type": "stream",
     "text": [
      "Mean balanced accuracy:  0.7320446040306019\n",
      "Mean accuracy:  0.9178598174017376\n"
     ]
    }
   ],
   "source": [
    "# CrossVal\n",
    "model = RandomForestClassifier(n_estimators=100, max_depth=None, class_weight='balanced',\n",
    "                               random_state=0, n_jobs=6)\n",
    "\n",
    "\n",
    "results = cross_validate(model, X=X_, y=y, scoring=['accuracy', 'balanced_accuracy'], cv=5)\n",
    "print(\"Mean balanced accuracy: \", np.mean(results['test_balanced_accuracy']))\n",
    "print(\"Mean accuracy: \", np.mean(results['test_accuracy']))\n"
   ]
  },
  {
   "cell_type": "markdown",
   "metadata": {},
   "source": [
    "It can be inferred from importance ratings that the newly introduced features bear little to no significance in comparison to the naive feature set."
   ]
  },
  {
   "cell_type": "code",
   "execution_count": 12,
   "metadata": {},
   "outputs": [
    {
     "data": {
      "image/png": "[encoded data removed]",
      "text/plain": [
       "<Figure size 432x288 with 1 Axes>"
      ]
     },
     "metadata": {
      "needs_background": "light"
     },
     "output_type": "display_data"
    }
   ],
   "source": [
    "# Importance\n",
    "model.fit(X_, y)\n",
    "plt.bar(range(X_.shape[1]), model.feature_importances_)\n",
    "plt.show()"
   ]
  },
  {
   "cell_type": "markdown",
   "metadata": {},
   "source": [
    "### Attempt 2: Spectral characteristics\n",
    "Another natural insight comes from the perspective of signal processing. It makes sense to assume that presence or absence of certain frequencies can tell a lot about the anomalies of one's heartbeat, therefore spectral density can serve as a useful source of diagnostic criteria."
   ]
  },
  {
   "cell_type": "code",
   "execution_count": 13,
   "metadata": {},
   "outputs": [
    {
     "data": {
      "image/png": "[encoded data removed]",
      "text/plain": [
       "<Figure size 1080x288 with 2 Axes>"
      ]
     },
     "metadata": {
      "needs_background": "light"
     },
     "output_type": "display_data"
    }
   ],
   "source": [
    "from scipy.signal import periodogram\n",
    "\n",
    "fig, axes = plt.subplots(1, 2)\n",
    "fig.set_figwidth(15)\n",
    "axes[0].plot(periodogram(X[0])[1], label=\"spectral density\")\n",
    "axes[0].legend()\n",
    "axes[1].plot(X[0], label=\"raw signal\")\n",
    "axes[1].legend()\n",
    "plt.show()"
   ]
  },
  {
   "cell_type": "code",
   "execution_count": 14,
   "metadata": {},
   "outputs": [],
   "source": [
    "# Feature computations\n",
    "def spectral_characteristics(x):\n",
    "    return np.concatenate((periodogram(x)[1][:25] * 10, x[::6]))\n",
    "\n",
    "\n",
    "X_ = np.apply_along_axis(spectral_characteristics, 1, X)"
   ]
  },
  {
   "cell_type": "markdown",
   "metadata": {},
   "source": [
    "#### Results\n",
    "Finally, an approach of ours succeeds at slightly improving the baseline. A humble improvement of 1% was achieved by introducing a part of the spectrum into the initial feature-set. There were further trials of several new tweaks and feature ideas, but none of them were by a significant ammount superior to the approach in question."
   ]
  },
  {
   "cell_type": "code",
   "execution_count": 15,
   "metadata": {},
   "outputs": [
    {
     "name": "stdout",
     "output_type": "stream",
     "text": [
      "Mean balanced accuracy:  0.7622892990397026\n",
      "Mean accuracy:  0.9199095937080912\n"
     ]
    }
   ],
   "source": [
    "# CrossVal\n",
    "model = RandomForestClassifier(n_estimators=100, max_depth=None, class_weight='balanced',\n",
    "                               random_state=0, n_jobs=6)\n",
    "\n",
    "\n",
    "results = cross_validate(model, X=X_, y=y, scoring=['accuracy', 'balanced_accuracy'], cv=5)\n",
    "print(\"Mean balanced accuracy: \", np.mean(results['test_balanced_accuracy']))\n",
    "print(\"Mean accuracy: \", np.mean(results['test_accuracy']))\n"
   ]
  },
  {
   "cell_type": "markdown",
   "metadata": {},
   "source": [
    "It can be observed from the feature ratings that certain densities of certain frequencies bear great diagnostic value and prety much all newly introduced features seem to be at the very least no less important then the naive features."
   ]
  },
  {
   "cell_type": "code",
   "execution_count": 16,
   "metadata": {},
   "outputs": [
    {
     "data": {
      "image/png": "[encoded data removed]",
      "text/plain": [
       "<Figure size 432x288 with 1 Axes>"
      ]
     },
     "metadata": {
      "needs_background": "light"
     },
     "output_type": "display_data"
    }
   ],
   "source": [
    "# Importance\n",
    "model.fit(X_, y)\n",
    "plt.bar(range(X_.shape[1]), model.feature_importances_)\n",
    "plt.show()"
   ]
  },
  {
   "cell_type": "markdown",
   "metadata": {},
   "source": [
    "# DL approach\n",
    "The potential application of deep learning, specifically convolutional neural networks, to this problem bears great promise due to the capability of CNNs to construct topology-aware features. Diagnosis via ECG readings is ALL ABOUT topology-aware features: spikes, drops, vibrations, plateaus, periodicity and so on. Some of those features can indeed be constructed manually by a quallified physician, however even the latter will not nescessarily be able to get the kind of insights that a CNN is capable of discovering automatically."
   ]
  },
  {
   "cell_type": "code",
   "execution_count": 17,
   "metadata": {},
   "outputs": [],
   "source": [
    "# Data preparation\n",
    "X_train, X_test, y_train, y_test = train_test_split(X, y, test_size=0.1)\n",
    "\n",
    "num_classes = 5\n",
    "\n",
    "y_Train=tf.keras.utils.to_categorical(y_train,num_classes)\n",
    "y_Train=y_Train.reshape(len(y_Train),num_classes)\n",
    "\n",
    "y_Test=tf.keras.utils.to_categorical(y_test,num_classes)\n",
    "y_Test=y_Test.reshape(len(y_Test),num_classes)"
   ]
  },
  {
   "cell_type": "markdown",
   "metadata": {},
   "source": [
    "A reduced and tweaked version of the CNN described in [this paper](https://www.sciencedirect.com/science/article/pii/S0010482517302810?via%3Dihu)."
   ]
  },
  {
   "cell_type": "code",
   "execution_count": 18,
   "metadata": {},
   "outputs": [
    {
     "name": "stdout",
     "output_type": "stream",
     "text": [
      "Model: \"model\"\n",
      "_________________________________________________________________\n",
      "Layer (type)                 Output Shape              Param #   \n",
      "=================================================================\n",
      "input_1 (InputLayer)         [(None, 87)]              0         \n",
      "_________________________________________________________________\n",
      "reshape (Reshape)            (None, 87, 1)             0         \n",
      "_________________________________________________________________\n",
      "conv1d (Conv1D)              (None, 85, 5)             20        \n",
      "_________________________________________________________________\n",
      "re_lu (ReLU)                 (None, 85, 5)             0         \n",
      "_________________________________________________________________\n",
      "max_pooling1d (MaxPooling1D) (None, 42, 5)             0         \n",
      "_________________________________________________________________\n",
      "conv1d_1 (Conv1D)            (None, 39, 10)            210       \n",
      "_________________________________________________________________\n",
      "re_lu_1 (ReLU)               (None, 39, 10)            0         \n",
      "_________________________________________________________________\n",
      "max_pooling1d_1 (MaxPooling1 (None, 19, 10)            0         \n",
      "_________________________________________________________________\n",
      "conv1d_2 (Conv1D)            (None, 16, 20)            820       \n",
      "_________________________________________________________________\n",
      "re_lu_2 (ReLU)               (None, 16, 20)            0         \n",
      "_________________________________________________________________\n",
      "max_pooling1d_2 (MaxPooling1 (None, 8, 20)             0         \n",
      "_________________________________________________________________\n",
      "flatten (Flatten)            (None, 160)               0         \n",
      "_________________________________________________________________\n",
      "dense (Dense)                (None, 15)                2415      \n",
      "_________________________________________________________________\n",
      "re_lu_3 (ReLU)               (None, 15)                0         \n",
      "_________________________________________________________________\n",
      "dense_1 (Dense)              (None, 12)                192       \n",
      "_________________________________________________________________\n",
      "re_lu_4 (ReLU)               (None, 12)                0         \n",
      "_________________________________________________________________\n",
      "dense_2 (Dense)              (None, 5)                 65        \n",
      "=================================================================\n",
      "Total params: 3,722\n",
      "Trainable params: 3,722\n",
      "Non-trainable params: 0\n",
      "_________________________________________________________________\n"
     ]
    }
   ],
   "source": [
    "inputs  = layers.Input(shape=(87,))\n",
    "reshape = layers.Reshape((87,1))(inputs)\n",
    "conv1   = layers.Conv1D(5,  3, activation='linear')(reshape)\n",
    "conv1   = layers.ReLU()(conv1)\n",
    "conv1   = layers.MaxPooling1D(2,2)(conv1)\n",
    "conv2   = layers.Conv1D(10, 4, activation='linear')(conv1)\n",
    "conv2   = layers.ReLU()(conv2)\n",
    "conv2   = layers.MaxPooling1D(2,2)(conv2)\n",
    "conv3   = layers.Conv1D(20, 4, activation='linear')(conv2)\n",
    "conv3   = layers.ReLU()(conv3)\n",
    "conv3   = layers.MaxPooling1D(2,2)(conv3)\n",
    "flat    = layers.Flatten()(conv3)\n",
    "dense1  = layers.Dense(15, activation='linear')(flat)\n",
    "dense1  = layers.ReLU()(dense1)\n",
    "dense2  = layers.Dense(12, activation='linear')(dense1)\n",
    "dense2  = layers.ReLU()(dense2)\n",
    "dense3  = layers.Dense(5, activation='softmax')(dense2)\n",
    "model   = tf.keras.Model(inputs=inputs, outputs=dense3)\n",
    "\n",
    "model.summary()"
   ]
  },
  {
   "cell_type": "code",
   "execution_count": 19,
   "metadata": {},
   "outputs": [
    {
     "name": "stdout",
     "output_type": "stream",
     "text": [
      "Epoch 1/25\n",
      "2037/2037 [==============================] - 12s 6ms/step - loss: 0.2263 - categorical_accuracy: 0.8676 - val_loss: 0.3636 - val_categorical_accuracy: 0.8911\n",
      "Epoch 2/25\n",
      "2037/2037 [==============================] - 11s 5ms/step - loss: 0.1140 - categorical_accuracy: 0.8821 - val_loss: 0.3042 - val_categorical_accuracy: 0.9151\n",
      "Epoch 3/25\n",
      "2037/2037 [==============================] - 11s 5ms/step - loss: 0.0937 - categorical_accuracy: 0.9146 - val_loss: 0.2431 - val_categorical_accuracy: 0.9332\n",
      "Epoch 4/25\n",
      "2037/2037 [==============================] - 11s 5ms/step - loss: 0.0742 - categorical_accuracy: 0.9396 - val_loss: 0.1819 - val_categorical_accuracy: 0.9568\n",
      "Epoch 5/25\n",
      "2037/2037 [==============================] - 11s 5ms/step - loss: 0.0650 - categorical_accuracy: 0.9513 - val_loss: 0.1858 - val_categorical_accuracy: 0.9525\n",
      "Epoch 6/25\n",
      "2037/2037 [==============================] - 11s 5ms/step - loss: 0.0584 - categorical_accuracy: 0.9539 - val_loss: 0.1358 - val_categorical_accuracy: 0.9641\n",
      "Epoch 7/25\n",
      "2037/2037 [==============================] - 11s 5ms/step - loss: 0.0530 - categorical_accuracy: 0.9578 - val_loss: 0.1602 - val_categorical_accuracy: 0.9574\n",
      "Epoch 8/25\n",
      "2037/2037 [==============================] - 11s 5ms/step - loss: 0.0509 - categorical_accuracy: 0.9607 - val_loss: 0.1769 - val_categorical_accuracy: 0.9562\n",
      "Epoch 9/25\n",
      "2037/2037 [==============================] - 11s 5ms/step - loss: 0.0476 - categorical_accuracy: 0.9612 - val_loss: 0.1653 - val_categorical_accuracy: 0.9606\n"
     ]
    }
   ],
   "source": [
    "model.compile(tf.keras.optimizers.Adam(),\n",
    "              loss=tf.keras.losses.CategoricalCrossentropy(),\n",
    "              metrics=[tf.keras.metrics.CategoricalAccuracy()])\n",
    "earlyStopping=tf.keras.callbacks.EarlyStopping(monitor= 'val_loss',\n",
    "                                               patience=3)\n",
    "train_history = model.fit(X_train, y_Train, batch_size=32, epochs=25, validation_split=0.3, callbacks=[earlyStopping],class_weight = class_weight)"
   ]
  },
  {
   "cell_type": "code",
   "execution_count": 20,
   "metadata": {},
   "outputs": [
    {
     "data": {
      "image/png": "[encoded data removed]",
      "text/plain": [
       "<Figure size 432x288 with 1 Axes>"
      ]
     },
     "metadata": {
      "needs_background": "light"
     },
     "output_type": "display_data"
    }
   ],
   "source": [
    "show_train_history(train_history, 'categorical_accuracy', 'val_categorical_accuracy')"
   ]
  },
  {
   "cell_type": "markdown",
   "metadata": {},
   "source": [
    "#### Results\n",
    "Lo and behold, the produced model has a mean recall (balanced accuracy) of a whopping 89%! The DL approach yields an error rate that is less than **HALF** as large as the one yielded by feature engineering."
   ]
  },
  {
   "cell_type": "code",
   "execution_count": 21,
   "metadata": {},
   "outputs": [
    {
     "name": "stdout",
     "output_type": "stream",
     "text": [
      "Accuracy:  0.9645170646814271\n",
      "Balanced accuracy:  0.8853235058974205\n"
     ]
    }
   ],
   "source": [
    "prediction = model.predict(X_test,batch_size=32)\n",
    "prediction = prediction.argmax(axis=-1)\n",
    "print(\"Accuracy: \", accuracy_score(y_test, prediction))\n",
    "print(\"Balanced accuracy: \", balanced_accuracy_score(y_test, prediction))"
   ]
  },
  {
   "cell_type": "code",
   "execution_count": 22,
   "metadata": {},
   "outputs": [
    {
     "name": "stdout",
     "output_type": "stream",
     "text": [
      "CONFUSION MATRIX:\n",
      "\n",
      "predict     0    1    2   3    4\n",
      "label                           \n",
      "0        8866  130   61  53    0\n",
      "1          41  173    4   0    0\n",
      "2          30   16  528   9    1\n",
      "3          19    0    2  66    0\n",
      "4           0    0    1   0  343\n",
      "acc  = 96.77% , 98.15% , 98.8% , 99.2% , 99.98% \n",
      "ppv  = 99.0% , 54.23% , 88.59% , 51.56% , 99.71% \n",
      "sen  = 97.32% , 79.36% , 90.41% , 75.86% , 99.71% \n",
      "spec = 92.7% , 98.56% , 99.3% , 99.4% , 99.99% \n"
     ]
    }
   ],
   "source": [
    "print(\"CONFUSION MATRIX:\")\n",
    "confusion_matrix = pd.crosstab(y_test, prediction, rownames=['label'], colnames=['predict'])\n",
    "show_confusion_matrix(confusion_matrix)"
   ]
  },
  {
   "cell_type": "markdown",
   "metadata": {},
   "source": [
    "pretty good, right?\n",
    "# NOW LET'S SEE IF WE CAN MAKE IT EVEN BETTER\n"
   ]
  },
  {
   "cell_type": "code",
   "execution_count": 23,
   "metadata": {},
   "outputs": [
    {
     "name": "stdout",
     "output_type": "stream",
     "text": [
      "Model: \"model_1\"\n",
      "__________________________________________________________________________________________________\n",
      "Layer (type)                    Output Shape         Param #     Connected to                     \n",
      "==================================================================================================\n",
      "input_2 (InputLayer)            [(None, 87)]         0                                            \n",
      "__________________________________________________________________________________________________\n",
      "reshape_1 (Reshape)             (None, 87, 1)        0           input_2[0][0]                    \n",
      "__________________________________________________________________________________________________\n",
      "conv1d_3 (Conv1D)               (None, 85, 5)        20          reshape_1[0][0]                  \n",
      "__________________________________________________________________________________________________\n",
      "re_lu_5 (ReLU)                  (None, 85, 5)        0           conv1d_3[0][0]                   \n",
      "__________________________________________________________________________________________________\n",
      "max_pooling1d_3 (MaxPooling1D)  (None, 42, 5)        0           re_lu_5[0][0]                    \n",
      "__________________________________________________________________________________________________\n",
      "conv1d_4 (Conv1D)               (None, 39, 10)       210         max_pooling1d_3[0][0]            \n",
      "__________________________________________________________________________________________________\n",
      "re_lu_6 (ReLU)                  (None, 39, 10)       0           conv1d_4[0][0]                   \n",
      "__________________________________________________________________________________________________\n",
      "max_pooling1d_4 (MaxPooling1D)  (None, 19, 10)       0           re_lu_6[0][0]                    \n",
      "__________________________________________________________________________________________________\n",
      "conv1d_5 (Conv1D)               (None, 16, 20)       820         max_pooling1d_4[0][0]            \n",
      "__________________________________________________________________________________________________\n",
      "re_lu_7 (ReLU)                  (None, 16, 20)       0           conv1d_5[0][0]                   \n",
      "__________________________________________________________________________________________________\n",
      "max_pooling1d_5 (MaxPooling1D)  (None, 8, 20)        0           re_lu_7[0][0]                    \n",
      "__________________________________________________________________________________________________\n",
      "flatten_1 (Flatten)             (None, 160)          0           max_pooling1d_5[0][0]            \n",
      "__________________________________________________________________________________________________\n",
      "lstm (LSTM)                     (None, 5)            140         reshape_1[0][0]                  \n",
      "__________________________________________________________________________________________________\n",
      "dense_3 (Dense)                 (None, 15)           2415        flatten_1[0][0]                  \n",
      "__________________________________________________________________________________________________\n",
      "dense_4 (Dense)                 (None, 5)            30          lstm[0][0]                       \n",
      "__________________________________________________________________________________________________\n",
      "re_lu_8 (ReLU)                  (None, 15)           0           dense_3[0][0]                    \n",
      "__________________________________________________________________________________________________\n",
      "re_lu_9 (ReLU)                  (None, 5)            0           dense_4[0][0]                    \n",
      "__________________________________________________________________________________________________\n",
      "concatenate (Concatenate)       (None, 20)           0           re_lu_8[0][0]                    \n",
      "                                                                 re_lu_9[0][0]                    \n",
      "__________________________________________________________________________________________________\n",
      "dense_5 (Dense)                 (None, 15)           315         concatenate[0][0]                \n",
      "__________________________________________________________________________________________________\n",
      "re_lu_10 (ReLU)                 (None, 15)           0           dense_5[0][0]                    \n",
      "__________________________________________________________________________________________________\n",
      "dense_6 (Dense)                 (None, 5)            80          re_lu_10[0][0]                   \n",
      "==================================================================================================\n",
      "Total params: 4,030\n",
      "Trainable params: 4,030\n",
      "Non-trainable params: 0\n",
      "__________________________________________________________________________________________________\n"
     ]
    }
   ],
   "source": [
    "inputs  = layers.Input(shape=(87,))\n",
    "reshape = layers.Reshape((87,1))(inputs)\n",
    "\n",
    "conv1   = layers.Conv1D(5,  3, activation='linear')(reshape)\n",
    "conv1   = layers.ReLU()(conv1)\n",
    "conv1   = layers.MaxPooling1D(2,2)(conv1)\n",
    "conv2   = layers.Conv1D(10, 4, activation='linear')(conv1)\n",
    "conv2   = layers.ReLU()(conv2)\n",
    "conv2   = layers.MaxPooling1D(2,2)(conv2)\n",
    "conv3   = layers.Conv1D(20, 4, activation='linear')(conv2)\n",
    "conv3   = layers.ReLU()(conv3)\n",
    "conv3   = layers.MaxPooling1D(2,2)(conv3)\n",
    "flat    = layers.Flatten()(conv3)\n",
    "cnn_dense = layers.Dense(15, activation='linear')(flat)\n",
    "cnn_dense = layers.ReLU()(cnn_dense)\n",
    "\n",
    "lstm1 = layers.LSTM(5)(reshape)\n",
    "lstm_dense = layers.Dense(5, activation='linear')(lstm1)\n",
    "lstm_dense = layers.ReLU()(lstm_dense)\n",
    "\n",
    "concat = layers.Concatenate(axis=-1)([cnn_dense, lstm_dense])\n",
    "dense2  = layers.Dense(15, activation='linear')(concat)\n",
    "dense2  = layers.ReLU()(dense2)\n",
    "dense3  = layers.Dense(5, activation='softmax')(dense2)\n",
    "model   = tf.keras.Model(inputs=inputs, outputs=dense3)\n",
    "\n",
    "model.summary()"
   ]
  },
  {
   "cell_type": "code",
   "execution_count": 24,
   "metadata": {},
   "outputs": [
    {
     "name": "stdout",
     "output_type": "stream",
     "text": [
      "Epoch 1/25\n",
      "510/510 [==============================] - 22s 38ms/step - loss: 0.2984 - categorical_accuracy: 0.8461 - val_loss: 0.5171 - val_categorical_accuracy: 0.9035\n",
      "Epoch 2/25\n",
      "510/510 [==============================] - 19s 37ms/step - loss: 0.1796 - categorical_accuracy: 0.8813 - val_loss: 0.4674 - val_categorical_accuracy: 0.8470\n",
      "Epoch 3/25\n",
      "510/510 [==============================] - 19s 38ms/step - loss: 0.1430 - categorical_accuracy: 0.8783 - val_loss: 0.4051 - val_categorical_accuracy: 0.8921\n",
      "Epoch 4/25\n",
      "510/510 [==============================] - 19s 38ms/step - loss: 0.1241 - categorical_accuracy: 0.8864 - val_loss: 0.3395 - val_categorical_accuracy: 0.9117\n",
      "Epoch 5/25\n",
      "510/510 [==============================] - 19s 37ms/step - loss: 0.1138 - categorical_accuracy: 0.9011 - val_loss: 0.3096 - val_categorical_accuracy: 0.9183\n",
      "Epoch 6/25\n",
      "510/510 [==============================] - 19s 38ms/step - loss: 0.1090 - categorical_accuracy: 0.9025 - val_loss: 0.2837 - val_categorical_accuracy: 0.9315\n",
      "Epoch 7/25\n",
      "510/510 [==============================] - 19s 38ms/step - loss: 0.1010 - categorical_accuracy: 0.9139 - val_loss: 0.2708 - val_categorical_accuracy: 0.9217\n",
      "Epoch 8/25\n",
      "510/510 [==============================] - 20s 39ms/step - loss: 0.0958 - categorical_accuracy: 0.9238 - val_loss: 0.3419 - val_categorical_accuracy: 0.9181\n",
      "Epoch 9/25\n",
      "510/510 [==============================] - 19s 38ms/step - loss: 0.0914 - categorical_accuracy: 0.9309 - val_loss: 0.2469 - val_categorical_accuracy: 0.9446\n",
      "Epoch 10/25\n",
      "510/510 [==============================] - 19s 38ms/step - loss: 0.0833 - categorical_accuracy: 0.9368 - val_loss: 0.2575 - val_categorical_accuracy: 0.9431\n",
      "Epoch 11/25\n",
      "510/510 [==============================] - 19s 38ms/step - loss: 0.0968 - categorical_accuracy: 0.9130 - val_loss: 0.2410 - val_categorical_accuracy: 0.9426\n",
      "Epoch 12/25\n",
      "510/510 [==============================] - 19s 38ms/step - loss: 0.0788 - categorical_accuracy: 0.9389 - val_loss: 0.1985 - val_categorical_accuracy: 0.9488\n",
      "Epoch 13/25\n",
      "510/510 [==============================] - 20s 38ms/step - loss: 0.0724 - categorical_accuracy: 0.9428 - val_loss: 0.2437 - val_categorical_accuracy: 0.9381\n",
      "Epoch 14/25\n",
      "510/510 [==============================] - 20s 38ms/step - loss: 0.0720 - categorical_accuracy: 0.9417 - val_loss: 0.2302 - val_categorical_accuracy: 0.9407\n",
      "Epoch 15/25\n",
      "510/510 [==============================] - 19s 38ms/step - loss: 0.0675 - categorical_accuracy: 0.9446 - val_loss: 0.1791 - val_categorical_accuracy: 0.9563\n",
      "Epoch 16/25\n",
      "510/510 [==============================] - 19s 38ms/step - loss: 0.0692 - categorical_accuracy: 0.9444 - val_loss: 0.2568 - val_categorical_accuracy: 0.9361\n",
      "Epoch 17/25\n",
      "510/510 [==============================] - 20s 38ms/step - loss: 0.0643 - categorical_accuracy: 0.9498 - val_loss: 0.1592 - val_categorical_accuracy: 0.9610\n",
      "Epoch 18/25\n",
      "510/510 [==============================] - 20s 38ms/step - loss: 0.0656 - categorical_accuracy: 0.9477 - val_loss: 0.1488 - val_categorical_accuracy: 0.9594\n",
      "Epoch 19/25\n",
      "510/510 [==============================] - 20s 38ms/step - loss: 0.0613 - categorical_accuracy: 0.9517 - val_loss: 0.1515 - val_categorical_accuracy: 0.9623\n",
      "Epoch 20/25\n",
      "510/510 [==============================] - 21s 41ms/step - loss: 0.0623 - categorical_accuracy: 0.9511 - val_loss: 0.2100 - val_categorical_accuracy: 0.9489\n",
      "Epoch 21/25\n",
      "510/510 [==============================] - 20s 39ms/step - loss: 0.0594 - categorical_accuracy: 0.9518 - val_loss: 0.2176 - val_categorical_accuracy: 0.9474\n",
      "Epoch 22/25\n",
      "510/510 [==============================] - 20s 38ms/step - loss: 0.0575 - categorical_accuracy: 0.9551 - val_loss: 0.1849 - val_categorical_accuracy: 0.9546\n",
      "Epoch 23/25\n",
      "510/510 [==============================] - 20s 39ms/step - loss: 0.0532 - categorical_accuracy: 0.9572 - val_loss: 0.1529 - val_categorical_accuracy: 0.9537\n"
     ]
    }
   ],
   "source": [
    "model.compile(tf.keras.optimizers.Adam(),\n",
    "              loss=tf.keras.losses.CategoricalCrossentropy(),\n",
    "              metrics=[tf.keras.metrics.CategoricalAccuracy()])\n",
    "earlyStopping=tf.keras.callbacks.EarlyStopping(monitor= 'val_loss',\n",
    "                                               patience=5, restore_best_weights=True)\n",
    "train_history = model.fit(X_train, y_Train, batch_size=128, epochs=25, validation_split=0.3, callbacks=[earlyStopping],class_weight = class_weight)"
   ]
  },
  {
   "cell_type": "code",
   "execution_count": 25,
   "metadata": {},
   "outputs": [
    {
     "data": {
      "image/png": "[encoded data removed]",
      "text/plain": [
       "<Figure size 432x288 with 1 Axes>"
      ]
     },
     "metadata": {
      "needs_background": "light"
     },
     "output_type": "display_data"
    }
   ],
   "source": [
    "show_train_history(train_history, 'categorical_accuracy', 'val_categorical_accuracy')"
   ]
  },
  {
   "cell_type": "markdown",
   "metadata": {},
   "source": [
    "#### Results\n",
    "Well, it was worth a try. I did predict this outcome, though. In my personal opinion LSTM is strongly inferior to CNN for this particular task, since there is no way to utilize the main advantage of LSTM -- infinite memory span. And YES I did try all sorts of architectures that involved those extra LSTM layers and this one turned out to be the best."
   ]
  },
  {
   "cell_type": "code",
   "execution_count": 26,
   "metadata": {},
   "outputs": [
    {
     "name": "stdout",
     "output_type": "stream",
     "text": [
      "Accuracy:  0.9631634922169583\n",
      "Balanced accuracy:  0.7971001122710308\n"
     ]
    }
   ],
   "source": [
    "prediction = model.predict(X_test,batch_size=32)\n",
    "prediction = prediction.argmax(axis=-1)\n",
    "print(\"Accuracy: \", accuracy_score(y_test, prediction))\n",
    "print(\"Balanced accuracy: \", balanced_accuracy_score(y_test, prediction))"
   ]
  },
  {
   "cell_type": "code",
   "execution_count": 27,
   "metadata": {},
   "outputs": [
    {
     "name": "stdout",
     "output_type": "stream",
     "text": [
      "CONFUSION MATRIX:\n",
      "\n",
      "predict     0    1    2   3    4\n",
      "label                           \n",
      "0        8894   77  129   9    1\n",
      "1          72  146    0   0    0\n",
      "2          36    1  544   2    1\n",
      "3          42    1    8  36    0\n",
      "4           0    0    2   0  342\n",
      "acc  = 96.46% , 98.54% , 98.27% , 99.4% , 99.96% \n",
      "ppv  = 98.34% , 64.89% , 79.65% , 76.6% , 99.42% \n",
      "sen  = 97.63% , 66.97% , 93.15% , 41.38% , 99.42% \n",
      "spec = 87.83% , 99.22% , 98.58% , 99.89% , 99.98% \n"
     ]
    }
   ],
   "source": [
    "print(\"CONFUSION MATRIX:\")\n",
    "confusion_matrix = pd.crosstab(y_test, prediction, rownames=['label'], colnames=['predict'])\n",
    "show_confusion_matrix(confusion_matrix)"
   ]
  }
 ],
 "metadata": {
  "kernelspec": {
   "display_name": "Python 3",
   "language": "python",
   "name": "python3"
  },
  "language_info": {
   "codemirror_mode": {
    "name": "ipython",
    "version": 3
   },
   "file_extension": ".py",
   "mimetype": "text/x-python",
   "name": "python",
   "nbconvert_exporter": "python",
   "pygments_lexer": "ipython3",
   "version": "3.6.6"
  }
 },
 "nbformat": 4,
 "nbformat_minor": 2
}
